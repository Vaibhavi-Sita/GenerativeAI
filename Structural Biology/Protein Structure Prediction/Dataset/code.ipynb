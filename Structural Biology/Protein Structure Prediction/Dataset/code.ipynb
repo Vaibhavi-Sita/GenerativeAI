{
 "cells": [
  {
   "cell_type": "code",
   "execution_count": 3,
   "metadata": {},
   "outputs": [],
   "source": [
    "import os\n",
    "import re\n",
    "import csv\n",
    "\n",
    "def parse_pdb_description(file_path):\n",
    "    description = {'file': os.path.basename(file_path)}\n",
    "    with open(file_path, 'r') as file:\n",
    "        for line in file:\n",
    "            if line.startswith('HEADER'):\n",
    "                description['header'] = line[10:].strip()\n",
    "            elif line.startswith('TITLE '):\n",
    "                description['title'] = (description.get('title', '') + line[10:].strip()).strip()\n",
    "            elif line.startswith('COMPND'):\n",
    "                m = re.search('MOLECULE: (.+?);', line)\n",
    "                if m:\n",
    "                    description['molecule'] = m.group(1)\n",
    "            elif line.startswith('SOURCE'):\n",
    "                s = re.search('ORGANISM_SCIENTIFIC: (.+?);', line)\n",
    "                if s:\n",
    "                    description['organism'] = s.group(1)\n",
    "            elif line.startswith('KEYWDS'):\n",
    "                description['keywords'] = line[10:].strip()\n",
    "    return description\n",
    "\n",
    "def get_image_path(file_path):\n",
    "    image_path = f\"./{os.path.basename(file_path).replace('.pdb', '.png')}\"\n",
    "    return image_path\n",
    "\n",
    "def process_pdb_files(directory):\n",
    "    dataset = []\n",
    "    for file_name in os.listdir(directory):\n",
    "        if file_name.endswith('.pdb'):\n",
    "            file_path = os.path.join(directory, file_name)\n",
    "            description = parse_pdb_description(file_path)\n",
    "            image_path = get_image_path(file_path)\n",
    "            description['image_path'] = image_path\n",
    "            dataset.append(description)\n",
    "    return dataset\n",
    "\n",
    "def save_to_csv(dataset, output_file):\n",
    "    keys = dataset[0].keys() if dataset else []\n",
    "    with open(output_file, 'w', newline='') as output_csv:\n",
    "        dict_writer = csv.DictWriter(output_csv, keys)\n",
    "        dict_writer.writeheader()\n",
    "        dict_writer.writerows(dataset)\n",
    "\n",
    "pdb_directory = './pdb'\n",
    "output_csv_file = './dataset.csv'\n",
    "\n",
    "pdb_dataset = process_pdb_files(pdb_directory)\n",
    "save_to_csv(pdb_dataset, output_csv_file)\n"
   ]
  }
 ],
 "metadata": {
  "kernelspec": {
   "display_name": "Python 3",
   "language": "python",
   "name": "python3"
  },
  "language_info": {
   "codemirror_mode": {
    "name": "ipython",
    "version": 3
   },
   "file_extension": ".py",
   "mimetype": "text/x-python",
   "name": "python",
   "nbconvert_exporter": "python",
   "pygments_lexer": "ipython3",
   "version": "3.11.0"
  }
 },
 "nbformat": 4,
 "nbformat_minor": 2
}
